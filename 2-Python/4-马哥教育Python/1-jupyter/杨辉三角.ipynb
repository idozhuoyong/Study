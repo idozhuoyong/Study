{
 "cells": [
  {
   "cell_type": "code",
   "execution_count": 3,
   "id": "23b9d1ef",
   "metadata": {},
   "outputs": [
    {
     "name": "stdout",
     "output_type": "stream",
     "text": [
      "[[1], [1, 1], [1, 2, 1], [1, 3, 3, 1], [1, 4, 6, 4, 1], [1, 5, 10, 10, 5, 1]]\n"
     ]
    }
   ],
   "source": [
    "# 最基础的形式\n",
    "n = 6\n",
    "triangle = [[1], [1, 1]]\n",
    "\n",
    "for i in range(2, n):\n",
    "    cur = [None] * (i+1)\n",
    "    pre = triangle[i-1]\n",
    "    \n",
    "    for j in range(i+1):\n",
    "        if j == 0 or j == i:\n",
    "            cur[j] = 1\n",
    "        else:\n",
    "            cur[j] = pre[j-1] + pre[j]\n",
    "    \n",
    "    triangle.append(cur)\n",
    "\n",
    "print(triangle)"
   ]
  },
  {
   "cell_type": "code",
   "execution_count": 4,
   "id": "341d03a8",
   "metadata": {},
   "outputs": [],
   "source": [
    "# 两行存储形式\n"
   ]
  },
  {
   "cell_type": "code",
   "execution_count": 1,
   "id": "9f2ac29a",
   "metadata": {},
   "outputs": [],
   "source": [
    "# 对称形式"
   ]
  },
  {
   "cell_type": "code",
   "execution_count": null,
   "id": "cdf1f8fe",
   "metadata": {},
   "outputs": [],
   "source": [
    "# 一行列表形式"
   ]
  }
 ],
 "metadata": {
  "kernelspec": {
   "display_name": "Python 3 (ipykernel)",
   "language": "python",
   "name": "python3"
  },
  "language_info": {
   "codemirror_mode": {
    "name": "ipython",
    "version": 3
   },
   "file_extension": ".py",
   "mimetype": "text/x-python",
   "name": "python",
   "nbconvert_exporter": "python",
   "pygments_lexer": "ipython3",
   "version": "3.9.9"
  }
 },
 "nbformat": 4,
 "nbformat_minor": 5
}
